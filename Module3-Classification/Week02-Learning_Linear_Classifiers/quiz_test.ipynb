{
 "cells": [
  {
   "cell_type": "code",
   "execution_count": 1,
   "id": "2ad6233b",
   "metadata": {},
   "outputs": [],
   "source": [
    "import numpy as np"
   ]
  },
  {
   "cell_type": "code",
   "execution_count": 2,
   "id": "28a8b4d7",
   "metadata": {},
   "outputs": [],
   "source": [
    "def GAfunction(s):\n",
    "    return 1.0/(1.0+np.exp(-float(s)))"
   ]
  },
  {
   "cell_type": "code",
   "execution_count": 3,
   "id": "2081bb18",
   "metadata": {},
   "outputs": [],
   "source": [
    "xs = [2.5, 0.3, 2.8, 0.5]\n",
    "ys = [True, False, True, True]"
   ]
  },
  {
   "cell_type": "code",
   "execution_count": 4,
   "id": "6ed986d3",
   "metadata": {},
   "outputs": [
    {
     "name": "stdout",
     "output_type": "stream",
     "text": [
      "0.92\n",
      "0.57\n",
      "0.94\n",
      "0.62\n"
     ]
    }
   ],
   "source": [
    "print (round(GAfunction(xs[0]), 2))\n",
    "print (round(GAfunction(xs[1]), 2))\n",
    "print (round(GAfunction(xs[2]), 2))\n",
    "print (round(GAfunction(xs[3]), 2))"
   ]
  },
  {
   "cell_type": "code",
   "execution_count": 5,
   "id": "4fbab4d8",
   "metadata": {},
   "outputs": [
    {
     "data": {
      "text/plain": [
       "[0.92, 0.57, 0.94, 0.62]"
      ]
     },
     "execution_count": 5,
     "metadata": {},
     "output_type": "execute_result"
    }
   ],
   "source": [
    "[round(GAfunction(x), 2) for x in xs]"
   ]
  },
  {
   "cell_type": "code",
   "execution_count": 6,
   "id": "c0a39644",
   "metadata": {},
   "outputs": [
    {
     "data": {
      "text/plain": [
       "0.23"
      ]
     },
     "execution_count": 6,
     "metadata": {},
     "output_type": "execute_result"
    }
   ],
   "source": [
    "#calculating the cumulative probability.\n",
    "p = 1\n",
    "\n",
    "for i in range(len(xs)): \n",
    "    if ys[i]: \n",
    "        p *= GAfunction(xs[i])\n",
    "    else: \n",
    "        p *= 1 - GAfunction(xs[i])\n",
    "round(p, 2)"
   ]
  },
  {
   "cell_type": "code",
   "execution_count": 7,
   "id": "36171501",
   "metadata": {},
   "outputs": [
    {
     "data": {
      "text/plain": [
       "0.37"
      ]
     },
     "execution_count": 7,
     "metadata": {},
     "output_type": "execute_result"
    }
   ],
   "source": [
    "s = 0\n",
    "\n",
    "for i in range(len(xs)): \n",
    "    s += xs[i] * (int(ys[i]) - GAfunction(xs[i]))\n",
    "round(s, 2)"
   ]
  },
  {
   "cell_type": "code",
   "execution_count": null,
   "id": "027bc66e",
   "metadata": {},
   "outputs": [],
   "source": []
  }
 ],
 "metadata": {
  "kernelspec": {
   "display_name": "Python 3",
   "language": "python",
   "name": "python3"
  },
  "language_info": {
   "codemirror_mode": {
    "name": "ipython",
    "version": 3
   },
   "file_extension": ".py",
   "mimetype": "text/x-python",
   "name": "python",
   "nbconvert_exporter": "python",
   "pygments_lexer": "ipython3",
   "version": "3.8.8"
  }
 },
 "nbformat": 4,
 "nbformat_minor": 5
}
